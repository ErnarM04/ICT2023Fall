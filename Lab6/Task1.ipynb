{
 "cells": [
  {
   "cell_type": "code",
   "execution_count": 1,
   "id": "83d72f1b-feb7-4e4a-abf9-91ba20ea9646",
   "metadata": {
    "tags": []
   },
   "outputs": [
    {
     "name": "stdin",
     "output_type": "stream",
     "text": [
      " 4 8 15 16 23 42\n"
     ]
    },
    {
     "name": "stdout",
     "output_type": "stream",
     "text": [
      "4 8 15 16 23 42 "
     ]
    }
   ],
   "source": [
    "list = input().split()\n",
    "for i in list:\n",
    "    print(i, end=\" \")"
   ]
  },
  {
   "cell_type": "code",
   "execution_count": 2,
   "id": "7e9a8b8f-c29f-4e46-8c42-5ba9e91c7c8d",
   "metadata": {
    "tags": []
   },
   "outputs": [
    {
     "name": "stdin",
     "output_type": "stream",
     "text": [
      " 4 8 15 16 23 42\n"
     ]
    },
    {
     "name": "stdout",
     "output_type": "stream",
     "text": [
      "4\n",
      "8\n",
      "15\n",
      "16\n",
      "23\n",
      "42\n"
     ]
    }
   ],
   "source": [
    "list = input().split()\n",
    "for i in list:\n",
    "    print(i, end='\\n')"
   ]
  },
  {
   "cell_type": "code",
   "execution_count": 3,
   "id": "ad1312ea-866c-4628-be2c-03af819a29f2",
   "metadata": {
    "tags": []
   },
   "outputs": [
    {
     "name": "stdin",
     "output_type": "stream",
     "text": [
      " 7\n"
     ]
    },
    {
     "name": "stdout",
     "output_type": "stream",
     "text": [
      "*\n",
      "**\n",
      "***\n",
      "****\n",
      "*****\n",
      "******\n",
      "*******\n"
     ]
    }
   ],
   "source": [
    "n = int(input())\n",
    "for i in range(1, n+1):\n",
    "    print(\"*\"*i)"
   ]
  },
  {
   "cell_type": "code",
   "execution_count": 4,
   "id": "cecf65a2-a093-4b80-a383-09540486c68a",
   "metadata": {
    "tags": []
   },
   "outputs": [
    {
     "name": "stdin",
     "output_type": "stream",
     "text": [
      " 8\n"
     ]
    },
    {
     "name": "stdout",
     "output_type": "stream",
     "text": [
      "8\n",
      "9\n",
      "10\n"
     ]
    }
   ],
   "source": [
    "n = int(input())\n",
    "for i in range(3):\n",
    "    print(n+i)"
   ]
  },
  {
   "cell_type": "code",
   "execution_count": 5,
   "id": "ac93db69-6498-4934-b045-328e15ef5b7d",
   "metadata": {
    "tags": []
   },
   "outputs": [
    {
     "name": "stdin",
     "output_type": "stream",
     "text": [
      " 9\n",
      " 11\n",
      " 2\n"
     ]
    },
    {
     "name": "stdout",
     "output_type": "stream",
     "text": [
      "22\n"
     ]
    }
   ],
   "source": [
    "a = int(input())\n",
    "b = int(input())\n",
    "c = int(input())\n",
    "print(a+b+c)"
   ]
  },
  {
   "cell_type": "code",
   "execution_count": 6,
   "id": "6c4f32d4-32d7-407f-a455-18ca9e2aada2",
   "metadata": {
    "tags": []
   },
   "outputs": [
    {
     "name": "stdin",
     "output_type": "stream",
     "text": [
      " 25\n"
     ]
    },
    {
     "name": "stdout",
     "output_type": "stream",
     "text": [
      "Volume: 15625\n",
      "Surface: 3750\n"
     ]
    }
   ],
   "source": [
    "n = int(input())\n",
    "print(\"Volume:\", n**3)\n",
    "print(\"Surface:\", n*n*6)"
   ]
  },
  {
   "cell_type": "code",
   "execution_count": 7,
   "id": "4b4d5ddf-ca5b-4c83-9fec-c307fc50ad10",
   "metadata": {
    "tags": []
   },
   "outputs": [
    {
     "name": "stdin",
     "output_type": "stream",
     "text": [
      " 19\n"
     ]
    },
    {
     "name": "stdout",
     "output_type": "stream",
     "text": [
      "Number next to 19 is 20\n",
      "Number back to 19 is 18\n"
     ]
    }
   ],
   "source": [
    "n = int(input())\n",
    "print(\"Number next to\", n, \"is\", n+1)\n",
    "print(\"Number back to\", n, \"is\", n-1)"
   ]
  },
  {
   "cell_type": "code",
   "execution_count": 8,
   "id": "60cc4f46-584d-4696-b6e3-57e953aabddf",
   "metadata": {
    "tags": []
   },
   "outputs": [
    {
     "name": "stdin",
     "output_type": "stream",
     "text": [
      " 9900\n",
      " 55600\n",
      " 3999\n",
      " 2990\n"
     ]
    },
    {
     "name": "stdout",
     "output_type": "stream",
     "text": [
      "217467\n"
     ]
    }
   ],
   "source": [
    "monitor = int(input())\n",
    "unit = int(input())\n",
    "keyboard = int(input())\n",
    "mouse = int(input())\n",
    "computer = monitor+unit+keyboard+mouse\n",
    "print(computer * 3)"
   ]
  },
  {
   "cell_type": "code",
   "execution_count": 9,
   "id": "e1691c3b-d5dc-4482-90cd-dd637f720713",
   "metadata": {
    "tags": []
   },
   "outputs": [
    {
     "name": "stdin",
     "output_type": "stream",
     "text": [
      " 2\n",
      " 7\n"
     ]
    },
    {
     "name": "stdout",
     "output_type": "stream",
     "text": [
      "2 + 7 = 9\n",
      "2 - 7 = -5\n",
      "2 * 7 = 14\n"
     ]
    }
   ],
   "source": [
    "a = int(input())\n",
    "b = int(input())\n",
    "print(a, \"+\", b, \"=\", a+b)\n",
    "print(a, \"-\", b, \"=\", a-b)\n",
    "print(a, \"*\", b, \"=\", a*b)"
   ]
  },
  {
   "cell_type": "code",
   "execution_count": 10,
   "id": "35f91172-71bc-4038-9795-f93b5d1db915",
   "metadata": {
    "tags": []
   },
   "outputs": [
    {
     "name": "stdin",
     "output_type": "stream",
     "text": [
      " 345\n"
     ]
    },
    {
     "name": "stdout",
     "output_type": "stream",
     "text": [
      "3\n"
     ]
    }
   ],
   "source": [
    "n = int(input())\n",
    "print(int(n/100))"
   ]
  }
 ],
 "metadata": {
  "kernelspec": {
   "display_name": "Python 3 (ipykernel)",
   "language": "python",
   "name": "python3"
  },
  "language_info": {
   "codemirror_mode": {
    "name": "ipython",
    "version": 3
   },
   "file_extension": ".py",
   "mimetype": "text/x-python",
   "name": "python",
   "nbconvert_exporter": "python",
   "pygments_lexer": "ipython3",
   "version": "3.11.5"
  }
 },
 "nbformat": 4,
 "nbformat_minor": 5
}

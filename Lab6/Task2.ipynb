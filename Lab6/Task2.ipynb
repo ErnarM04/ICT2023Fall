{
 "cells": [
  {
   "cell_type": "code",
   "execution_count": 2,
   "id": "560186eb-2b7f-41dd-a7c1-9e3e075b4fa3",
   "metadata": {
    "tags": []
   },
   "outputs": [
    {
     "name": "stdin",
     "output_type": "stream",
     "text": [
      " qwerty\n",
      " qwerty\n"
     ]
    },
    {
     "name": "stdout",
     "output_type": "stream",
     "text": [
      "Password accepted\n"
     ]
    }
   ],
   "source": [
    "a = input()\n",
    "b = input()\n",
    "if a == b:\n",
    "    print(\"Password accepted\")\n",
    "else:\n",
    "    print(\"Password not accepted\")"
   ]
  },
  {
   "cell_type": "code",
   "execution_count": 3,
   "id": "8f207a00-88ff-46eb-b575-cc0f0acc0300",
   "metadata": {
    "tags": []
   },
   "outputs": [
    {
     "name": "stdin",
     "output_type": "stream",
     "text": [
      " 10\n"
     ]
    },
    {
     "name": "stdout",
     "output_type": "stream",
     "text": [
      "Even number\n"
     ]
    }
   ],
   "source": [
    "n = int(input())\n",
    "if n % 2 == 0:\n",
    "    print(\"Even number\")\n",
    "else:\n",
    "    print(\"Odd number\")"
   ]
  },
  {
   "cell_type": "code",
   "execution_count": 4,
   "id": "c7cb5f7e-5cb0-4f5b-844b-70576eb067b4",
   "metadata": {
    "tags": []
   },
   "outputs": [
    {
     "name": "stdin",
     "output_type": "stream",
     "text": [
      " 8\n",
      " 11\n"
     ]
    },
    {
     "name": "stdout",
     "output_type": "stream",
     "text": [
      "8\n"
     ]
    }
   ],
   "source": [
    "a = int(input())\n",
    "b = int(input())\n",
    "print(min(a, b))"
   ]
  },
  {
   "cell_type": "code",
   "execution_count": 6,
   "id": "65371681-6cbc-4513-a00f-adff1a62c19e",
   "metadata": {
    "tags": []
   },
   "outputs": [
    {
     "name": "stdin",
     "output_type": "stream",
     "text": [
      " 4\n"
     ]
    },
    {
     "name": "stdout",
     "output_type": "stream",
     "text": [
      "Childhood\n"
     ]
    }
   ],
   "source": [
    "age = int(input())\n",
    "if 0 <= age and age <= 13:\n",
    "    print(\"Childhood\")\n",
    "elif 14 <= age and age <= 24:\n",
    "    print(\"Youth\")\n",
    "elif 25 <= age and age <= 59:\n",
    "    print(\"Maturity\")\n",
    "elif age >= 60:\n",
    "    print(\"Old age\")\n",
    "else:\n",
    "    print(\"Error\")"
   ]
  },
  {
   "cell_type": "code",
   "execution_count": 7,
   "id": "ffaeb8d3-3689-4130-84eb-dc5177b99838",
   "metadata": {
    "tags": []
   },
   "outputs": [
    {
     "name": "stdin",
     "output_type": "stream",
     "text": [
      " 145\n",
      " 145\n",
      " 139\n"
     ]
    },
    {
     "name": "stdout",
     "output_type": "stream",
     "text": [
      "Isosceles\n"
     ]
    }
   ],
   "source": [
    "a = int(input())\n",
    "b = int(input())\n",
    "c = int(input())\n",
    "if a == b == c:\n",
    "    print(\"Equilateral\")\n",
    "elif a == b or a == c or b == c:\n",
    "    print(\"Isosceles\")\n",
    "else:\n",
    "    print(\"Versatile\")"
   ]
  }
 ],
 "metadata": {
  "kernelspec": {
   "display_name": "Python 3 (ipykernel)",
   "language": "python",
   "name": "python3"
  },
  "language_info": {
   "codemirror_mode": {
    "name": "ipython",
    "version": 3
   },
   "file_extension": ".py",
   "mimetype": "text/x-python",
   "name": "python",
   "nbconvert_exporter": "python",
   "pygments_lexer": "ipython3",
   "version": "3.11.5"
  }
 },
 "nbformat": 4,
 "nbformat_minor": 5
}
